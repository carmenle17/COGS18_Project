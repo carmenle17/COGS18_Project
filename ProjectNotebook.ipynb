{
 "cells": [
  {
   "cell_type": "markdown",
   "metadata": {},
   "source": [
    "# Project Description"
   ]
  },
  {
   "cell_type": "markdown",
   "metadata": {},
   "source": [
    "This project takes in user inputs in order to help someone choose a movie from IMDB's list of the top 250 movies. There is an option if you know what year you want to search by, but if you are indecisive or uncertain, there is also an option for the program to generate completely random movie title!\n",
    "\n",
    "After importing the functions, you call the `start()` function to start up the program. It asks you whether you want to search by year or by random. If you decide to search by year, it runs the `by_year()` function, which asks you to input a year and returns a list of movies from that year. Then, it runs the `by_title()` function, which asks you to input one of the movies from the list, and if you want more information for the film, the `more_info()` function will print the IMDB page for that particular title. Afterwards, the `choose_movie()` function asks whether you want to choose this movie.\n",
    "\n",
    "If you decide for the program to give you a random movie, the `random_movie()` function prints a random movie from our list of movies, and then continues to the `more_info()` and `choose_movie()` functions.\n",
    "\n",
    "This program is fully automated and should run its course as long as you write the correct inputs. However, if you deviate from the intended inputs for a certain prompt, the program will print what you should have inputted and will stop running.\n",
    "\n",
    "To learn how to webscrape using the BeautifulSoup package, I referenced the [Beautiful Soup Documentation Page](https://www.crummy.com/software/BeautifulSoup/bs4/doc/) and also a [YouTube video](https://www.youtube.com/watch?v=O68xT4dE_zU&ab_channel=HackersRealm) that shows code on how to webscrape IMDB. These references are used for my webscraping in the very beginning of my code for the `start()` function, which I will emphasize in my code comments."
   ]
  },
  {
   "cell_type": "markdown",
   "metadata": {},
   "source": [
    "## Project Code\n",
    "\n",
    "If it makes sense for your project, you can have code and outputs here in the notebook as well."
   ]
  },
  {
   "cell_type": "code",
   "execution_count": 1,
   "metadata": {},
   "outputs": [
    {
     "name": "stdout",
     "output_type": "stream",
     "text": [
      "Would you like to search by year or by random? year\n",
      "Choose year: 2015\n",
      "['Inside Out', 'Room', 'Mad Max: Fury Road', 'Spotlight']\n",
      "Choose one of these titles! inside out\n",
      "Inside Out\n",
      "Would you like more info for this movie? yes\n",
      "https://www.imdb.com/title/tt2096673/?ref_=ttpl_pl_tt\n",
      "Choose this movie? yes\n",
      "Enjoy the movie!\n"
     ]
    }
   ],
   "source": [
    "import functions\n",
    "functions.start()"
   ]
  },
  {
   "cell_type": "code",
   "execution_count": 2,
   "metadata": {
    "scrolled": true
   },
   "outputs": [
    {
     "name": "stdout",
     "output_type": "stream",
     "text": [
      "\u001b[1m============================= test session starts ==============================\u001b[0m\n",
      "platform linux -- Python 3.9.5, pytest-6.2.5, py-1.10.0, pluggy-1.0.0\n",
      "rootdir: /home/c1le/FinalProject_COGS18_WI22\n",
      "plugins: anyio-3.2.1\n",
      "collected 6 items                                                              \u001b[0m\n",
      "\n",
      "test_functions.py \u001b[32m.\u001b[0m\u001b[32m.\u001b[0m\u001b[32m.\u001b[0m\u001b[32m.\u001b[0m\u001b[32m.\u001b[0m\u001b[32m.\u001b[0m\u001b[32m                                                 [100%]\u001b[0m\n",
      "\n",
      "\u001b[32m============================== \u001b[32m\u001b[1m6 passed\u001b[0m\u001b[32m in 0.29s\u001b[0m\u001b[32m ===============================\u001b[0m\n"
     ]
    }
   ],
   "source": [
    "!pytest test_functions.py"
   ]
  },
  {
   "cell_type": "markdown",
   "metadata": {},
   "source": [
    "#### Extra Credit (*optional*)\n",
    "\n",
    "1. I have taken another introductory Python course and learned a bit about data analysis. I have heard of using BeautifulSoup for webscraping, but did not get a chance to learn more about it or try it out.\n",
    "2. I challenged myself to learn how to use the BeautifulSoup package and webscrape an IMDB page since I was interested in this topic. I also wrote 6 functions with docstrings and test code, which is more than the required 3 that we needed for this project."
   ]
  }
 ],
 "metadata": {
  "kernelspec": {
   "display_name": "Python 3 (ipykernel)",
   "language": "python",
   "name": "python3"
  },
  "language_info": {
   "codemirror_mode": {
    "name": "ipython",
    "version": 3
   },
   "file_extension": ".py",
   "mimetype": "text/x-python",
   "name": "python",
   "nbconvert_exporter": "python",
   "pygments_lexer": "ipython3",
   "version": "3.9.5"
  }
 },
 "nbformat": 4,
 "nbformat_minor": 2
}
